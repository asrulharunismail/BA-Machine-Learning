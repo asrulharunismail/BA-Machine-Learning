{
  "nbformat": 4,
  "nbformat_minor": 0,
  "metadata": {
    "colab": {
      "name": "N_Coverage_GAB.py",
      "provenance": [],
      "authorship_tag": "ABX9TyPGuulf1kRbYJydOTlPv/Mz",
      "include_colab_link": true
    },
    "kernelspec": {
      "name": "python3",
      "display_name": "Python 3"
    }
  },
  "cells": [
    {
      "cell_type": "markdown",
      "metadata": {
        "id": "view-in-github",
        "colab_type": "text"
      },
      "source": [
        "<a href=\"https://colab.research.google.com/github/asrulharunismail/BA-Machine-Learning/blob/main/N_Coverage_GAB_py.ipynb\" target=\"_parent\"><img src=\"https://colab.research.google.com/assets/colab-badge.svg\" alt=\"Open In Colab\"/></a>"
      ]
    },
    {
      "cell_type": "code",
      "metadata": {
        "colab": {
          "base_uri": "https://localhost:8080/"
        },
        "id": "cgesLN3DuBTH",
        "outputId": "fbbf79de-71ee-427d-fed3-4417d3eb1253"
      },
      "source": [
        "import warnings\n",
        "import numpy as np\n",
        "from scipy import sparse as sp\n",
        "import random\n",
        "\n",
        "from sklearn.base import BaseEstimator, ClassifierMixin\n",
        "from sklearn.metrics.pairwise import pairwise_distances\n",
        "from sklearn.preprocessing import LabelEncoder\n",
        "from sklearn.utils.validation import check_array, check_X_y, check_is_fitted\n",
        "from sklearn.utils.sparsefuncs import csc_median_axis_0\n",
        "from sklearn.utils.multiclass import check_classification_targets\n",
        "\n",
        "class NearestCoverage(BaseEstimator, ClassifierMixin):\n",
        "\n",
        "    def __init__(self, metric='euclidean', shrink_threshold=None):\n",
        "        self.metric = metric\n",
        "        self.shrink_threshold = shrink_threshold\n",
        "\n",
        "    def fit(self, X, y):\n",
        "        # If X is sparse and the metric is \"manhattan\", store it in a csc\n",
        "        # format is easier to calculate the median.\n",
        "        if self.metric == 'manhattan':\n",
        "            X, y = check_X_y(X, y, ['csc'])\n",
        "        else:\n",
        "            X, y = check_X_y(X, y, ['csr', 'csc'])\n",
        "        is_X_sparse = sp.issparse(X)\n",
        "        if is_X_sparse and self.shrink_threshold:\n",
        "            raise ValueError(\"threshold shrinking not supported\"\n",
        "                             \" for sparse input\")\n",
        "        check_classification_targets(y)\n",
        "        \n",
        "        n_samples, n_features = X.shape\n",
        "        le = LabelEncoder()\n",
        "        y_ind = le.fit_transform(y)\n",
        "        self.classes_ = classes = le.classes_\n",
        "        n_classes = classes.size\n",
        "        if n_classes < 2:\n",
        "            raise ValueError('y has less than 2 classes')\n",
        "\n",
        "        # Mask mapping each class to it's members.\n",
        "        self.centroids_ = np.empty((n_classes, n_features), dtype=np.float64)\n",
        "        self.radius_ = np.empty((n_classes,1), dtype=np.float64)\n",
        "        # Number of clusters in each class.\n",
        "        nk = np.zeros(n_classes)\n",
        "\n",
        "        for cur_class in range(n_classes):\n",
        "            center_mask = y_ind == cur_class\n",
        "            nk[cur_class] = np.sum(center_mask)\n",
        "            if is_X_sparse:\n",
        "                center_mask = np.where(center_mask)[0]\n",
        "\n",
        "            # XXX: Update other averaging methods according to the metrics.\n",
        "            if self.metric == \"manhattan\":\n",
        "                # NumPy does not calculate median of sparse matrices.\n",
        "                if not is_X_sparse:\n",
        "                    self.centroids_[cur_class] = np.median(X[center_mask], axis=0)\n",
        "                else:\n",
        "                    self.centroids_[cur_class] = csc_median_axis_0(X[center_mask])\n",
        "            else:\n",
        "                if self.metric != 'euclidean':\n",
        "                    warnings.warn(\"Averaging for metrics other than \"\n",
        "                                  \"euclidean and manhattan not supported. \"\n",
        "                                  \"The average is set to be the mean.\"\n",
        "                                  )\n",
        "                self.centroids_[cur_class] = X[center_mask].mean(axis=0)\n",
        "                self.radius_[cur_class]=pairwise_distances(X[center_mask], [self.centroids_[cur_class]], metric=self.metric).mean(axis=0)\n",
        "                \n",
        "                \n",
        "        if self.shrink_threshold:\n",
        "            dataset_centroid_ = np.mean(X, axis=0)\n",
        "\n",
        "            # m parameter for determining deviation\n",
        "            m = np.sqrt((1. / nk) + (1. / n_samples))\n",
        "            # Calculate deviation using the standard deviation of centroids.\n",
        "            variance = (X - self.centroids_[y_ind]) ** 2\n",
        "            variance = variance.sum(axis=0)\n",
        "            s = np.sqrt(variance / (n_samples - n_classes))\n",
        "            s += np.median(s)  # To deter outliers from affecting the results.\n",
        "            mm = m.reshape(len(m), 1)  # Reshape to allow broadcasting.\n",
        "            ms = mm * s\n",
        "            deviation = ((self.centroids_ - dataset_centroid_) / ms)\n",
        "            # Soft thresholding: if the deviation crosses 0 during shrinking,\n",
        "            # it becomes zero.\n",
        "            signs = np.sign(deviation)\n",
        "            deviation = (np.abs(deviation) - self.shrink_threshold)\n",
        "            deviation[deviation < 0] = 0\n",
        "            deviation *= signs\n",
        "            # Now adjust the centroids using the deviation\n",
        "            msd = ms * deviation\n",
        "            self.centroids_ = dataset_centroid_[np.newaxis, :] + msd\n",
        "        return self\n",
        "\n",
        "    def predict(self, X):\n",
        "        radius_regulator=0.5\n",
        "        check_is_fitted(self, 'centroids_')\n",
        "\n",
        "        X = check_array(X, accept_sparse='csr')\n",
        "        \n",
        "        self.radius_= np.array(self.radius_)\n",
        "        \n",
        "        Z1=pairwise_distances(X, self.centroids_, metric=self.metric)\n",
        "        Z1=np.array(Z1)\n",
        "\n",
        "        n,m = Z1.shape\n",
        "        Z2 = np.empty((n, m), dtype=np.float64)\n",
        "\n",
        "        for i in range (n):\n",
        "            Z2[i,:]= Z1[i,:] - np.transpose (self.radius_)*radius_regulator\n",
        "\n",
        "        return self.classes_[Z2.argmin(axis=1)]\n",
        "\n",
        "    \n",
        "from sklearn.datasets import load_breast_cancer\n",
        "from sklearn.metrics import classification_report\n",
        "from sklearn.model_selection import train_test_split\n",
        "import pandas as pd\n",
        " \n",
        "# Loading the dataset\n",
        "dataset = load_breast_cancer()\n",
        " \n",
        "# Separating data and target labels\n",
        "X = pd.DataFrame(dataset.data)\n",
        "y = pd.DataFrame(dataset.target)\n",
        " \n",
        "ts = 0.3 # test size ##\n",
        "R=range(10) # Random Seed\n",
        "\n",
        "# Splitting training and test data\n",
        "X_train, X_test, y_train, y_test = train_test_split(X, y, test_size = ts, shuffle = True, random_state = R[0]) #random.randint(1,10))\n",
        " \n",
        "# Creating the Nearest Coverage Classifier\n",
        "model = NearestCoverage()\n",
        " \n",
        "# Training the classifier\n",
        "model.fit(X_train, y_train.values.ravel())\n",
        " \n",
        "# Printing Accuracy on Training and Test sets\n",
        "print(\"Random Seed=0\")\n",
        "print(f\"Training Set Score : {model.score(X_train, y_train) * 100} %\")\n",
        "print(f\"Test Set Score : {model.score(X_test, y_test) * 100} %\")\n",
        " \n",
        "# Printing classification report of classifier on the test set set data\n",
        "print(f\"Model Classification Report : \\n{classification_report(y_test, model.predict(X_test))}\")"
      ],
      "execution_count": null,
      "outputs": [
        {
          "output_type": "stream",
          "text": [
            "Random Seed=0\n",
            "Training Set Score : 90.20100502512562 %\n",
            "Test Set Score : 92.98245614035088 %\n",
            "Model Classification Report : \n",
            "              precision    recall  f1-score   support\n",
            "\n",
            "           0       0.96      0.84      0.90        63\n",
            "           1       0.91      0.98      0.95       108\n",
            "\n",
            "    accuracy                           0.93       171\n",
            "   macro avg       0.94      0.91      0.92       171\n",
            "weighted avg       0.93      0.93      0.93       171\n",
            "\n"
          ],
          "name": "stdout"
        }
      ]
    },
    {
      "cell_type": "code",
      "metadata": {
        "id": "nIQRUdY95vu7"
      },
      "source": [
        ""
      ],
      "execution_count": null,
      "outputs": []
    },
    {
      "cell_type": "code",
      "metadata": {
        "colab": {
          "base_uri": "https://localhost:8080/"
        },
        "id": "WhPKO_urUkmC",
        "outputId": "4964c17d-ee4a-41f2-944a-f746dae8b8e2"
      },
      "source": [
        "# Splitting training and test data\n",
        "X_train, X_test, y_train, y_test = train_test_split(X, y, test_size = ts, shuffle = True, random_state = R[1])\n",
        " \n",
        "# Creating the Nearest Coverage Classifier\n",
        "model = NearestCoverage()\n",
        " \n",
        "# Training the classifier\n",
        "model.fit(X_train, y_train.values.ravel())\n",
        " \n",
        "# Printing Accuracy on Training and Test sets\n",
        "print(\"Random Seed=1\")\n",
        "print(f\"Training Set Score : {model.score(X_train, y_train) * 100} %\")\n",
        "print(f\"Test Set Score : {model.score(X_test, y_test) * 100} %\")\n",
        " \n",
        "# Printing classification report of classifier on the test set set data\n",
        "print(f\"Model Classification Report : \\n{classification_report(y_test, model.predict(X_test))}\")"
      ],
      "execution_count": null,
      "outputs": [
        {
          "output_type": "stream",
          "text": [
            "Random Seed=1\n",
            "Training Set Score : 91.20603015075378 %\n",
            "Test Set Score : 90.64327485380117 %\n",
            "Model Classification Report : \n",
            "              precision    recall  f1-score   support\n",
            "\n",
            "           0       0.96      0.78      0.86        63\n",
            "           1       0.88      0.98      0.93       108\n",
            "\n",
            "    accuracy                           0.91       171\n",
            "   macro avg       0.92      0.88      0.89       171\n",
            "weighted avg       0.91      0.91      0.90       171\n",
            "\n"
          ],
          "name": "stdout"
        }
      ]
    },
    {
      "cell_type": "code",
      "metadata": {
        "colab": {
          "base_uri": "https://localhost:8080/"
        },
        "id": "7NOg9dIyUoPN",
        "outputId": "c2da8fde-9951-43ac-dad4-04fee96d27e6"
      },
      "source": [
        "# Splitting training and test data\n",
        "X_train, X_test, y_train, y_test = train_test_split(X, y, test_size = ts, shuffle = True, random_state = R[2])\n",
        " \n",
        "# Creating the Nearest Coverage Classifier\n",
        "model = NearestCoverage()\n",
        " \n",
        "# Training the classifier\n",
        "model.fit(X_train, y_train.values.ravel())\n",
        " \n",
        "# Printing Accuracy on Training and Test sets\n",
        "print(\"Random Seed=2\")\n",
        "print(f\"Training Set Score : {model.score(X_train, y_train) * 100} %\")\n",
        "print(f\"Test Set Score : {model.score(X_test, y_test) * 100} %\")\n",
        " \n",
        "# Printing classification report of classifier on the test set set data\n",
        "print(f\"Model Classification Report : \\n{classification_report(y_test, model.predict(X_test))}\")"
      ],
      "execution_count": null,
      "outputs": [
        {
          "output_type": "stream",
          "text": [
            "Random Seed=2\n",
            "Training Set Score : 90.95477386934674 %\n",
            "Test Set Score : 90.64327485380117 %\n",
            "Model Classification Report : \n",
            "              precision    recall  f1-score   support\n",
            "\n",
            "           0       0.93      0.82      0.87        67\n",
            "           1       0.89      0.96      0.93       104\n",
            "\n",
            "    accuracy                           0.91       171\n",
            "   macro avg       0.91      0.89      0.90       171\n",
            "weighted avg       0.91      0.91      0.91       171\n",
            "\n"
          ],
          "name": "stdout"
        }
      ]
    },
    {
      "cell_type": "code",
      "metadata": {
        "colab": {
          "base_uri": "https://localhost:8080/"
        },
        "id": "xzg7ErL0Uq72",
        "outputId": "723d4058-4e63-428a-9a07-ce4913b4f723"
      },
      "source": [
        "# Splitting training and test data\n",
        "X_train, X_test, y_train, y_test = train_test_split(X, y, test_size = ts, shuffle = True, random_state = R[3])\n",
        " \n",
        "# Creating the Nearest Coverage Classifier\n",
        "model = NearestCoverage()\n",
        " \n",
        "# Training the classifier\n",
        "model.fit(X_train, y_train.values.ravel())\n",
        " \n",
        "# Printing Accuracy on Training and Test sets\n",
        "print(\"Random Seed=3\")\n",
        "print(f\"Training Set Score : {model.score(X_train, y_train) * 100} %\")\n",
        "print(f\"Test Set Score : {model.score(X_test, y_test) * 100} %\")\n",
        " \n",
        "# Printing classification report of classifier on the test set set data\n",
        "print(f\"Model Classification Report : \\n{classification_report(y_test, model.predict(X_test))}\")"
      ],
      "execution_count": null,
      "outputs": [
        {
          "output_type": "stream",
          "text": [
            "Random Seed=3\n",
            "Training Set Score : 91.20603015075378 %\n",
            "Test Set Score : 90.64327485380117 %\n",
            "Model Classification Report : \n",
            "              precision    recall  f1-score   support\n",
            "\n",
            "           0       0.93      0.81      0.86        62\n",
            "           1       0.90      0.96      0.93       109\n",
            "\n",
            "    accuracy                           0.91       171\n",
            "   macro avg       0.91      0.88      0.90       171\n",
            "weighted avg       0.91      0.91      0.90       171\n",
            "\n"
          ],
          "name": "stdout"
        }
      ]
    },
    {
      "cell_type": "code",
      "metadata": {
        "colab": {
          "base_uri": "https://localhost:8080/"
        },
        "id": "SNRwAkzBUw8w",
        "outputId": "f131c516-e83f-405c-a9c0-c1d7ae7341b0"
      },
      "source": [
        "# Splitting training and test data\n",
        "X_train, X_test, y_train, y_test = train_test_split(X, y, test_size = ts, shuffle = True, random_state = R[4])\n",
        " \n",
        "# Creating the Nearest Coverage Classifier\n",
        "model = NearestCoverage()\n",
        " \n",
        "# Training the classifier\n",
        "model.fit(X_train, y_train.values.ravel())\n",
        " \n",
        "# Printing Accuracy on Training and Test sets\n",
        "print(\"Random Seed=4\")\n",
        "print(f\"Training Set Score : {model.score(X_train, y_train) * 100} %\")\n",
        "print(f\"Test Set Score : {model.score(X_test, y_test) * 100} %\")\n",
        " \n",
        "# Printing classification report of classifier on the test set set data\n",
        "print(f\"Model Classification Report : \\n{classification_report(y_test, model.predict(X_test))}\")"
      ],
      "execution_count": null,
      "outputs": [
        {
          "output_type": "stream",
          "text": [
            "Random Seed=4\n",
            "Training Set Score : 91.70854271356784 %\n",
            "Test Set Score : 88.88888888888889 %\n",
            "Model Classification Report : \n",
            "              precision    recall  f1-score   support\n",
            "\n",
            "           0       0.87      0.76      0.81        54\n",
            "           1       0.90      0.95      0.92       117\n",
            "\n",
            "    accuracy                           0.89       171\n",
            "   macro avg       0.88      0.85      0.87       171\n",
            "weighted avg       0.89      0.89      0.89       171\n",
            "\n"
          ],
          "name": "stdout"
        }
      ]
    },
    {
      "cell_type": "code",
      "metadata": {
        "colab": {
          "base_uri": "https://localhost:8080/"
        },
        "id": "ccxlxfLYFthR",
        "outputId": "0ce482ab-7a59-4d5b-da59-9bb80a61e4d7"
      },
      "source": [
        "# Splitting training and test data\n",
        "X_train, X_test, y_train, y_test = train_test_split(X, y, test_size = ts, shuffle = True, random_state = R[5])\n",
        " \n",
        "# Creating the Nearest Coverage Classifier\n",
        "model = NearestCoverage()\n",
        " \n",
        "# Training the classifier\n",
        "model.fit(X_train, y_train.values.ravel())\n",
        " \n",
        "# Printing Accuracy on Training and Test sets\n",
        "print(\"Random Seed=5\")\n",
        "print(f\"Training Set Score : {model.score(X_train, y_train) * 100} %\")\n",
        "print(f\"Test Set Score : {model.score(X_test, y_test) * 100} %\")\n",
        " \n",
        "# Printing classification report of classifier on the test set set data\n",
        "print(f\"Model Classification Report : \\n{classification_report(y_test, model.predict(X_test))}\")"
      ],
      "execution_count": null,
      "outputs": [
        {
          "output_type": "stream",
          "text": [
            "Random Seed=5\n",
            "Training Set Score : 88.94472361809045 %\n",
            "Test Set Score : 95.32163742690058 %\n",
            "Model Classification Report : \n",
            "              precision    recall  f1-score   support\n",
            "\n",
            "           0       1.00      0.87      0.93        61\n",
            "           1       0.93      1.00      0.96       110\n",
            "\n",
            "    accuracy                           0.95       171\n",
            "   macro avg       0.97      0.93      0.95       171\n",
            "weighted avg       0.96      0.95      0.95       171\n",
            "\n"
          ],
          "name": "stdout"
        }
      ]
    },
    {
      "cell_type": "code",
      "metadata": {
        "colab": {
          "base_uri": "https://localhost:8080/"
        },
        "id": "5s0_j2E2FxXp",
        "outputId": "6a8f75d5-0846-40f0-cee9-541d5da83e52"
      },
      "source": [
        "# Splitting training and test data\n",
        "X_train, X_test, y_train, y_test = train_test_split(X, y, test_size = ts, shuffle = True, random_state = R[6])\n",
        " \n",
        "# Creating the Nearest Coverage Classifier\n",
        "model = NearestCoverage()\n",
        " \n",
        "# Training the classifier\n",
        "model.fit(X_train, y_train.values.ravel())\n",
        " \n",
        "# Printing Accuracy on Training and Test sets\n",
        "print(\"Random Seed=6\")\n",
        "print(f\"Training Set Score : {model.score(X_train, y_train) * 100} %\")\n",
        "print(f\"Test Set Score : {model.score(X_test, y_test) * 100} %\")\n",
        " \n",
        "# Printing classification report of classifier on the test set set data\n",
        "print(f\"Model Classification Report : \\n{classification_report(y_test, model.predict(X_test))}\")"
      ],
      "execution_count": null,
      "outputs": [
        {
          "output_type": "stream",
          "text": [
            "Random Seed=6\n",
            "Training Set Score : 90.7035175879397 %\n",
            "Test Set Score : 91.81286549707602 %\n",
            "Model Classification Report : \n",
            "              precision    recall  f1-score   support\n",
            "\n",
            "           0       0.95      0.85      0.90        74\n",
            "           1       0.90      0.97      0.93        97\n",
            "\n",
            "    accuracy                           0.92       171\n",
            "   macro avg       0.92      0.91      0.92       171\n",
            "weighted avg       0.92      0.92      0.92       171\n",
            "\n"
          ],
          "name": "stdout"
        }
      ]
    },
    {
      "cell_type": "code",
      "metadata": {
        "colab": {
          "base_uri": "https://localhost:8080/"
        },
        "id": "rnGPA2MWF07y",
        "outputId": "58426f68-d8c7-4821-fbaf-4d33dfc46de2"
      },
      "source": [
        "# Splitting training and test data\n",
        "X_train, X_test, y_train, y_test = train_test_split(X, y, test_size = ts, shuffle = True, random_state = R[7])\n",
        " \n",
        "# Creating the Nearest Coverage Classifier\n",
        "model = NearestCoverage()\n",
        " \n",
        "# Training the classifier\n",
        "model.fit(X_train, y_train.values.ravel())\n",
        " \n",
        "# Printing Accuracy on Training and Test sets\n",
        "print(\"Random Seed=7\")\n",
        "print(f\"Training Set Score : {model.score(X_train, y_train) * 100} %\")\n",
        "print(f\"Test Set Score : {model.score(X_test, y_test) * 100} %\")\n",
        " \n",
        "# Printing classification report of classifier on the test set set data\n",
        "print(f\"Model Classification Report : \\n{classification_report(y_test, model.predict(X_test))}\")"
      ],
      "execution_count": null,
      "outputs": [
        {
          "output_type": "stream",
          "text": [
            "Random Seed=7\n",
            "Training Set Score : 90.7035175879397 %\n",
            "Test Set Score : 92.39766081871345 %\n",
            "Model Classification Report : \n",
            "              precision    recall  f1-score   support\n",
            "\n",
            "           0       0.94      0.82      0.87        55\n",
            "           1       0.92      0.97      0.95       116\n",
            "\n",
            "    accuracy                           0.92       171\n",
            "   macro avg       0.93      0.90      0.91       171\n",
            "weighted avg       0.92      0.92      0.92       171\n",
            "\n"
          ],
          "name": "stdout"
        }
      ]
    },
    {
      "cell_type": "code",
      "metadata": {
        "colab": {
          "base_uri": "https://localhost:8080/"
        },
        "id": "d-ShsF37F4tA",
        "outputId": "9176dacf-e197-4681-b569-cb9eaf142b88"
      },
      "source": [
        "# Splitting training and test data\n",
        "X_train, X_test, y_train, y_test = train_test_split(X, y, test_size = ts, shuffle = True, random_state = R[8])\n",
        " \n",
        "# Creating the Nearest Coverage Classifier\n",
        "model = NearestCoverage()\n",
        " \n",
        "# Training the classifier\n",
        "model.fit(X_train, y_train.values.ravel())\n",
        " \n",
        "# Printing Accuracy on Training and Test sets\n",
        "print(\"Random Seed=8\")\n",
        "print(f\"Training Set Score : {model.score(X_train, y_train) * 100} %\")\n",
        "print(f\"Test Set Score : {model.score(X_test, y_test) * 100} %\")\n",
        " \n",
        "# Printing classification report of classifier on the test set set data\n",
        "print(f\"Model Classification Report : \\n{classification_report(y_test, model.predict(X_test))}\")"
      ],
      "execution_count": null,
      "outputs": [
        {
          "output_type": "stream",
          "text": [
            "Random Seed=8\n",
            "Training Set Score : 90.20100502512562 %\n",
            "Test Set Score : 92.39766081871345 %\n",
            "Model Classification Report : \n",
            "              precision    recall  f1-score   support\n",
            "\n",
            "           0       0.98      0.82      0.89        66\n",
            "           1       0.90      0.99      0.94       105\n",
            "\n",
            "    accuracy                           0.92       171\n",
            "   macro avg       0.94      0.90      0.92       171\n",
            "weighted avg       0.93      0.92      0.92       171\n",
            "\n"
          ],
          "name": "stdout"
        }
      ]
    },
    {
      "cell_type": "code",
      "metadata": {
        "colab": {
          "base_uri": "https://localhost:8080/"
        },
        "id": "tEWxX5WRF8_-",
        "outputId": "dcc8cce8-8dca-4774-e116-459faf833ede"
      },
      "source": [
        "# Splitting training and test data\n",
        "X_train, X_test, y_train, y_test = train_test_split(X, y, test_size = ts, shuffle = True, random_state = R[9])\n",
        " \n",
        "# Creating the Nearest Coverage Classifier\n",
        "model = NearestCoverage()\n",
        " \n",
        "# Training the classifier\n",
        "model.fit(X_train, y_train.values.ravel())\n",
        " \n",
        "# Printing Accuracy on Training and Test sets\n",
        "print(\"Random Seed=9\")\n",
        "print(f\"Training Set Score : {model.score(X_train, y_train) * 100} %\")\n",
        "print(f\"Test Set Score : {model.score(X_test, y_test) * 100} %\")\n",
        " \n",
        "# Printing classification report of classifier on the test set set data\n",
        "print(f\"Model Classification Report : \\n{classification_report(y_test, model.predict(X_test))}\")"
      ],
      "execution_count": null,
      "outputs": [
        {
          "output_type": "stream",
          "text": [
            "Random Seed=9\n",
            "Training Set Score : 91.20603015075378 %\n",
            "Test Set Score : 90.64327485380117 %\n",
            "Model Classification Report : \n",
            "              precision    recall  f1-score   support\n",
            "\n",
            "           0       0.96      0.77      0.86        62\n",
            "           1       0.88      0.98      0.93       109\n",
            "\n",
            "    accuracy                           0.91       171\n",
            "   macro avg       0.92      0.88      0.89       171\n",
            "weighted avg       0.91      0.91      0.90       171\n",
            "\n"
          ],
          "name": "stdout"
        }
      ]
    }
  ]
}